{
  "nbformat": 4,
  "nbformat_minor": 0,
  "metadata": {
    "colab": {
      "provenance": []
    },
    "kernelspec": {
      "name": "python3",
      "display_name": "Python 3"
    },
    "language_info": {
      "name": "python"
    }
  },
  "cells": [
    {
      "cell_type": "markdown",
      "source": [
        "Since $X=Tz$ we have that for a system with negligible damping\n",
        "\\begin{align}\n",
        "\\begin{bmatrix}\n",
        "x(t)\\\\\n",
        "\\theta(t)\n",
        "\\end{bmatrix}\n",
        "\\approx Y=z_1(t)\\,\\bar{X}_{m_1}+z_2(t)\\,\\bar{X}_{m_2}.\n",
        "\\end{align}\n",
        "Using Laplace transforms we find that the steady state reponse (once the transients have died out) of $\\ddot{z}_i+\\omega_i^2z_i=\\gamma_i f(t)\\,/m_1$ is given by\n",
        "\\begin{align}\n",
        "z_i(t)&=\\mathfrak{L}^{-1}\\left\\{\\frac{\\gamma_i/m_1}{s^2+\\omega_i^2}\\,F(s)\\right\\}=\n",
        "f_0\\gamma_i\\mathfrak{L}^{-1}\\left\\{\\frac{1}{s^2+\\omega_i^2}\\,\\frac{s}{s^2+\\omega^2}\\right\\}=\n",
        "\\frac{\\gamma_i}{m_1}f_0\\,\\chi_i(\\omega)\\cos{(\\omega t +\\phi_i(\\omega))}\n",
        "\\end{align}\n",
        "where\n",
        "\\begin{align*}\n",
        "\\chi_i(\\omega)&=\\left|\\frac{1/m_1}{-\\omega^2+\\omega^2_i}\\right|,\\\\\n",
        "\\phi_i(\\omega)&={\\large\\angle}\\frac{1}{-\\omega^2+\\omega^2_i}\n",
        "\\end{align*}\n",
        "\n",
        "Thus we see that for sinusoidal forcing, $f(t)=f_0\\cos{\\omega t}$,\n",
        "\n",
        "\\begin{align*}\n",
        "\\begin{bmatrix}\n",
        "x(t)\\\\\n",
        "\\theta(t)\n",
        "\\end{bmatrix} &\\approx \\gamma_1f_0\\,\\chi_1(\\omega)\\cos{(\\omega t +\\phi_1(\\omega))}{\\bar{X}_{m_1}}+\\gamma_2f_0\\,\\chi_2(\\omega)\\cos{(\\omega t +\\phi_2(\\omega))}{\\bar{X}_{m_2}}.\n",
        "\\end{align*} \n",
        "\n",
        "The expression for $\\chi_i(\\omega)$ shown above clearly shows that the amplitude of the motion is magnified by an extremely large value for exciting frequwncies $\\omega$ near the frequency $\\omega_i$. This phenomena is called **resonance**. For this system there exisits two resonance frequencies $\\omega_1, \\omega_2$. \n",
        "\n",
        "Since when $\\omega\\approx \\omega_1$ the amplitude magnification $\\chi_1(\\omega) >>\\chi_2(\\omega)$ and when $\\omega\\approx \\omega_2$ the amplitude magnification $\\chi_1(\\omega) <<\\chi_2(\\omega)$ we see that when $\\omega\\approx \\omega_i$\n",
        "\n",
        "\\begin{align*}\n",
        "\\begin{bmatrix}\n",
        "x(t)\\\\\n",
        "\\theta(t)\n",
        "\\end{bmatrix}\n",
        "&\\approx f_0\\gamma_i\\chi_i(\\omega)\\cos{(\\omega t +\\phi_i(\\omega))}{\\bar{X}_{m_i}}\n",
        "\\end{align*} \n",
        "In such a case the *shape* of the motion is given by the eignevector $\\bar{X}_{m_i}$\n",
        "\n"
      ],
      "metadata": {
        "id": "nhTgtjJSimQY"
      }
    },
    {
      "cell_type": "markdown",
      "source": [
        "### A1.2-The Frequency Response of the System"
      ],
      "metadata": {
        "id": "J2ul_407isG9"
      }
    },
    {
      "cell_type": "markdown",
      "source": [
        "Taking the Laplace transform of\n",
        "\\begin{align}\n",
        "Y(t)=z_1(t)\\,\\bar{X}_{m_1}+z_2(t)\\,\\bar{X}_{m_2}.\n",
        "\\end{align}\n",
        "we have\n",
        "\\begin{align}\n",
        "\\mathfrak{L}\\left\\{\\begin{bmatrix}\n",
        "x(t)\\\\\n",
        "\\theta(t)\n",
        "\\end{bmatrix}\\right\\}\n",
        "&= \\mathfrak{L}\\left\\{Y(t)\\right\\}=\\mathfrak{L}\\left\\{z_1(t)\\right\\}\\,\\bar{X}_{m_1}+\\mathfrak{L}\\left\\{z_2(t)\\right\\}\\,\\bar{X}_{m_2},\\\\\n",
        "&=\\left(\\frac{\\gamma_1/m_1}{s^2+\\omega_1^2}F(s)\\right)\\,\\bar{X}_{m_1}+\\left(\\frac{\\gamma_2/m_1}{s^2+\\omega_2^2}F(s)\\right)\\,\\bar{X}_{m_2}\\\\\n",
        "&=\\frac{1}{m_1}\\begin{bmatrix} \\frac{(\\gamma_1\\bar{x}_{11}+\\gamma_2\\bar{x}_{12})s^2+(\\gamma_1\\bar{x}_{11}\\omega_2^2+\\gamma_2\\bar{x}_{12}\\omega_1^2)}{(s^2+\\omega_1^2)(s^2+\\omega_2^2)}\\\\\n",
        "\\frac{(\\gamma_1\\bar{x}_{21}+\\gamma_2\\bar{x}_{22})s^2+(\\gamma_1\\bar{x}_{21}\\omega_2^2+\\gamma_2\\bar{x}_{22}\\omega_1^2)}{(s^2+\\omega_1^2)(s^2+\\omega_2^2)}\n",
        "  \\end{bmatrix}F(s).\n",
        "\\end{align}\n",
        "\n",
        "Let\n",
        "\\begin{align}\n",
        "G_1(s)&=\\frac{(\\gamma_1\\bar{x}_{11}+\\gamma_2\\bar{x}_{12})s^2+(\\gamma_1\\bar{x}_{11}\\omega_2^2+\\gamma_2\\bar{x}_{12}\\omega_1^2)}{m_1(s^2+\\omega_1^2)(s^2+\\omega_2^2)}\\\\\n",
        "G_2(s)&=\\frac{(\\gamma_1\\bar{x}_{21}+\\gamma_2\\bar{x}_{22})s^2+(\\gamma_1\\bar{x}_{21}\\omega_2^2+\\gamma_2\\bar{x}_{22}\\omega_1^2)}{m_1(s^2+\\omega_1^2)(s^2+\\omega_2^2)}.\n",
        "\\end{align}\n",
        "\n",
        "\n",
        "Then from above we see that $\\mathfrak{L}\\{x(t)\\}=X(s)=G_x(s)F(s)$ and $\\mathfrak{L}\\{\\theta(t)\\}=\\Theta(s)=G_\\theta(s)F(s)$. Thus when $f(t)=f_0\\cos{\\omega t}$ we see that the steady stat reponses (for negligibly damped systems) are approximately given by\n",
        "\\begin{align}\n",
        "x(t)&\\approx f_0\\chi_x(\\omega)\\cos{\\left(\\omega t+\\phi_x(\\omega)\\right)}\\\\\n",
        "\\theta(t)&\\approx f_0\\chi_\\theta(\\omega)\\cos{\\left(\\omega t+\\phi_\\theta(\\omega)\\right)}\n",
        "\\end{align}\n",
        "where\n",
        "\\begin{align}\n",
        "\\chi_x(\\omega)&=\\left|G_x(i\\omega)\\right|,\\:\\:\\:\\:\\:\\phi_x(\\omega)=\\angle G_x(i\\omega)\\\\\n",
        "\\chi_\\theta(\\omega)&=\\left|G_\\theta(i\\omega)\\right|,\\:\\:\\:\\:\\:\\phi_\\theta(\\omega)=\\angle G_\\theta(i\\omega)\n",
        "\\end{align}"
      ],
      "metadata": {
        "id": "5OVIThIFitJp"
      }
    },
    {
      "cell_type": "markdown",
      "source": [
        "The Frequency Response of the system\n",
        "\n",
        "\\begin{align}\n",
        "\\chi_x(\\omega)&=\\frac{1}{m_1}\\left|{\\frac{\\alpha \\omega_{n1}^{2} - \\omega^{2}}{\\alpha \\mu \\omega^{2} \\omega_{n1}^{2} + \\alpha \\omega^{2} \\omega_{n1}^{2} - \\alpha \\omega_{n1}^{4} - \\omega^{4} + \\omega^{2} \\omega_{n1}^{2}}}\\right|,\\\\\n",
        "\\chi_\\theta(\\omega)&=\\frac{1}{m_1}\\left|{\\frac{\\alpha \\omega_{n1}^{2}}{\\alpha \\mu \\omega^{2} \\omega_{n1}^{2} + \\alpha \\omega^{2} \\omega_{n1}^{2} - \\alpha \\omega_{n1}^{4} - \\omega^{4} + \\omega^{2} \\omega_{n1}^{2}}}\\right|\n",
        "\\end{align}"
      ],
      "metadata": {
        "id": "NfgnlBVAi3qy"
      }
    },
    {
      "cell_type": "markdown",
      "source": [
        "Notice that when $\\omega_{n_2}\\approx \\omega_{n_1}$ (ie. $\\alpha\\approx 1$) the amplitude magnification of the first mass $m_1$ is very close to zero. **We will see in the next section that this observation is of practical significance with respect to vibration mitigation.**"
      ],
      "metadata": {
        "id": "LYiTU9yPiwmP"
      }
    }
  ]
}