{
  "nbformat": 4,
  "nbformat_minor": 0,
  "metadata": {
    "colab": {
      "provenance": []
    },
    "kernelspec": {
      "name": "python3",
      "display_name": "Python 3"
    },
    "language_info": {
      "name": "python"
    }
  },
  "cells": [
    {
      "cell_type": "markdown",
      "source": [
        "#Instructions"
      ],
      "metadata": {
        "id": "tjwc7ZikCWjn"
      }
    },
    {
      "cell_type": "markdown",
      "source": [
        "* This is a group assignment. Complete the activities in groups that were assigned for ME421 for the vibrations lab.\n",
        "\n",
        "* Make a copy of this and save it in your group github group repository.\n",
        "\n",
        "* Do all your work, EXCLUSIVELY, in that saved notebook. Your github commits will serve as a refelection of your individual contributions. It will constitute 25% of your final grade for the lab.\n",
        "\n",
        "* Complete Tasks#1 and Task#2 by 5:00PM on 14/06/2023\n",
        "\n",
        "* Complete Tasks#3 and the Task#4 by 5:00PM on 21/06/2023 and demonstrate the work in the class on 21/06/2023.\n",
        "\n",
        "* Complete Task#5 by 5:00PM on 28/06/2023."
      ],
      "metadata": {
        "id": "pOeY40kCCZIY"
      }
    },
    {
      "cell_type": "markdown",
      "source": [
        "#References"
      ],
      "metadata": {
        "id": "xQxmvsoX2wtl"
      }
    },
    {
      "cell_type": "markdown",
      "source": [
        "* https://colab.research.google.com/github/mugalan/classical-mechanics-from-a-geometric-point-of-view/blob/main/rigid-body-control/Mugas_Rigid_Body_Control.ipynb\n",
        "\n",
        "* https://github.com/mugalan/classical-mechanics-from-a-geometric-point-of-view/blob/main/rigid-body-control/MaithriPalaDHS_RigidBodyPIDControl_IITB_18_03_2023.pdf"
      ],
      "metadata": {
        "id": "N2PYkHmG2y9o"
      }
    },
    {
      "cell_type": "markdown",
      "source": [
        "#Task#1"
      ],
      "metadata": {
        "id": "JhWYC6Kv2l4k"
      }
    },
    {
      "cell_type": "markdown",
      "metadata": {
        "id": "GjPELOm2sJQg"
      },
      "source": [
        "Conside a rigid body moving in space. Let $\\mathbf{b}$ be a body fixed frame with the origin coinciding with that of the center of mass of the body, $M$ be the tatal mass of the body, $\\mathbb{I}$ be the inertia tensor of the body with respect to the body frame $\\mathbf{b}$, $f^e$ be the resultant total external interactions acting on the particles of the body, and $\\tau^e$ be the total resultant of the moments of the external interactions about the center of mass of the body.\n",
        "\n",
        "Show that a general rigid body is descibed by the following simple equations in an inertial frame $\\mathbf{e}$ where the moments are taken about the center of mass of the rigid body."
      ]
    },
    {
      "cell_type": "markdown",
      "metadata": {
        "id": "2FFWl8Whs8HJ"
      },
      "source": [
        "\\begin{align}\n",
        "\\dot{o}&=\\frac{1}{M}p\\\\\n",
        "\\dot{R}&=\\widehat{\\omega}R,\\\\\n",
        "\\dot{p}&=f^e+f^u,\\\\\n",
        "\\dot{\\pi}&=\\tau^e+\\tau^u,\n",
        "\\end{align}\n",
        "where\n",
        "\\begin{align}\n",
        "\\omega &=(\\mathbb{I}_c^R)^{-1}\\pi,\n",
        "\\end{align}\n",
        "Here we have split the force and control moments into unmanipulatable and manipulatable (control) part. The manipulatable (control) part will be denoted by a superscript $u$."
      ]
    },
    {
      "cell_type": "markdown",
      "source": [
        "**Answer**"
      ],
      "metadata": {
        "id": "EyKxM5SYZMjl"
      }
    },
    {
      "cell_type": "markdown",
      "source": [
        "$\\dot{o}=\\frac{1}{M}p$"
      ],
      "metadata": {
        "id": "H4JB8w7UZRqc"
      }
    },
    {
      "cell_type": "markdown",
      "source": [
        "Let's derive the equation $\\dot{o} = \\frac{1}{M}p$ using fundamental principles of mechanics.\n",
        "\n",
        "We initiate our derivation with Newton's second law.In vector form, this law can be expressed as:\n",
        "\\begin{equation}\n",
        "\\frac{d\\mathbf{p}}{dt} = \\sum \\mathbf{F},\n",
        "\\end{equation}\n",
        "\n",
        "Here, $\\frac{d\\mathbf{p}}{dt}$ represents the derivative of the momentum vector $\\mathbf{p}$ with respect to time, and $\\sum \\mathbf{F}$ represents the sum of all external forces acting on the body.\n",
        "\n",
        "For a rigid body, the total linear momentum $\\mathbf{p}$ is the sum of the linear momenta of all particles comprising the body. Mathematically, we can write it as:\n",
        "\\begin{equation}\n",
        "\\mathbf{p} = \\sum m_i \\mathbf{v}_i,\n",
        "\\end{equation}\n",
        "\n",
        "In the above equation, $m_i$ denotes the mass of the $i$-th particle, and $\\mathbf{v}_i$ represents its velocity.\n",
        "\n",
        "The center of mass of a rigid body can be defined as the weighted average of the positions of all particles, with the masses of the particles serving as the weights. Mathematically, it can be expressed as:\n",
        "\\begin{equation}\n",
        "\\mathbf{o} = \\frac{1}{M} \\sum m_i \\mathbf{r}_i,\n",
        "\\end{equation}\n",
        "\n",
        "Here, $\\mathbf{o}$ denotes the position vector of the center of mass, $\\mathbf{r}_i$ represents the position vector of the $i$-th particle, and $M$ represents the total mass of the body, given by $M = \\sum m_i$.\n",
        "\n",
        "Next, let's differentiate the equation for the center of mass position with respect to time to find its rate of change:\n",
        "\\begin{align}\n",
        "\\dot{\\mathbf{o}} &= \\frac{d}{dt} \\left( \\frac{1}{M} \\sum m_i \\mathbf{r}_i \\right)\n",
        "= \\frac{1}{M} \\sum m_i \\frac{d\\mathbf{r}_i}{dt}\n",
        "= \\frac{1}{M} \\sum m_i \\mathbf{v}_i\n",
        "= \\frac{1}{M} \\mathbf{p}.\n",
        "\\end{align}\n",
        "\n",
        "In the third step, we utilize the fact that the derivative of the position vector with respect to time yields the velocity vector, i.e., $\\frac{d\\mathbf{r}_i}{dt} = \\mathbf{v}_i$.\n",
        "\n",
        "Hence, we have derived the equation $\\dot{\\mathbf{o}} = \\frac{1}{M} \\mathbf{p}$, which demonstrates that the rate of change of the center of mass position is equal to the total linear momentum divided by the total mass of the body.\n"
      ],
      "metadata": {
        "id": "RL4NGPi8ZY_K"
      }
    },
    {
      "cell_type": "markdown",
      "source": [
        "$\\dot{R}=\\widehat{\\omega}R$\n",
        "\n",
        "To derive the equation $\\dot{R} = \\widehat{\\omega}R$ for the rotational motion of a rigid body:\n",
        "\n",
        "Consider a rigid body rotating in three-dimensional space. The orientation of the body can be represented by a rotation matrix $R$. This matrix maps coordinates from the body-fixed frame to the inertial frame.The angular velocity vector $\\boldsymbol{\\omega}$ describes the rate at which the body is rotating. It is a vector that points along the axis of rotation, and its magnitude represents the angular speed of rotation.\n",
        "\n",
        "The time derivative of the rotation matrix $R$ represents the rate of change of the orientation of the body. We can express this derivative as $\\dot{R}$.\n",
        "The relationship between the angular velocity $\\boldsymbol{\\omega}$ and the derivative of the rotation matrix $\\dot{R}$ is given by the formula:\n",
        "\n",
        "\\begin{equation}\n",
        "\\dot{R} = \\widehat{\\boldsymbol{\\omega}} R,\n",
        "\\end{equation}\n",
        "\n",
        "where $\\widehat{\\boldsymbol{\\omega}}$ is the skew-symmetric matrix representation of the angular velocity vector $\\boldsymbol{\\omega}$.\n",
        "\n",
        "Now, consider a point $P$ fixed in the body frame. Its position vector in the inertial frame can be expressed as $\\mathbf{r} = R \\mathbf{r}_0$, where $\\mathbf{r}_0$ is the position vector of $P$ in the body-fixed frame.\n",
        "\n",
        "Taking the time derivative of $\\mathbf{r}$ :\n",
        "\n",
        "\\begin{align}\n",
        "\\dot{\\mathbf{r}} &= \\frac{d}{dt} (R \\mathbf{r}_0)\n",
        "= \\dot{R} \\mathbf{r}_0.\n",
        "\\end{align}\n",
        "\n",
        "Also, the velocity $\\mathbf{v}$ of point $P$ is given by the cross product of the angular velocity $\\boldsymbol{\\omega}$ and position vector $\\mathbf{r}$:\n",
        "\\begin{equation}\n",
        "\\mathbf{v} = \\boldsymbol{\\omega} \\times \\mathbf{r}.\n",
        "\\end{equation}\n",
        "\n",
        "Taking the time derivative of $\\mathbf{r}$ using the product rule and simplify:\n",
        "\\begin{align}\n",
        "\\dot{\\mathbf{r}} = \\frac{d}{dt} (R \\mathbf{r}_0)\n",
        "= \\dot{R} \\mathbf{r}_0\n",
        "= (\\dot{R} \\mathbf{r}_0) \\times \\mathbf{r}\n",
        "= (\\dot{R} \\mathbf{r}_0) \\times (R \\mathbf{r}_0).\n",
        "\\end{align}\n",
        "\n",
        "By equating the expressions for $\\mathbf{v}$ from above:\n",
        "\n",
        "\\begin{equation}\n",
        "\\boldsymbol{\\omega} \\times \\mathbf{r} = (\\dot{R} \\mathbf{r}_0) \\times (R \\mathbf{r}_0).\n",
        "\\end{equation}\n",
        "\n",
        "Since $\\mathbf{r}_0$ is an arbitrary vector, we can cancel it out from both sides of the equation:\n",
        "\\begin{equation}\n",
        "\\boldsymbol{\\omega} \\times \\mathbf{r} = \\dot{R} R \\mathbf{r}_0.\n",
        "\\end{equation}\n",
        "The vector, $\\mathbf{r}$ is a general vector in the body frame, so we can write it as $\\mathbf{r} = R \\mathbf{r}_0$:\n",
        "\\begin{equation}\n",
        "\\boldsymbol{\\omega} \\times (R \\mathbf{r}_0) = \\dot{R} R \\mathbf{r}_0.\n",
        "\\end{equation}\n",
        "\n",
        "Multiply both sides by $R^{-1}$ from the right to simplify the equation:\n",
        "\\begin{equation}\n",
        "\\boldsymbol{\\omega} \\times \\mathbf{r}_0 = \\dot{R} R.\n",
        "\\end{equation}\n",
        "\n",
        "Finally, $\\boldsymbol{\\omega} \\times \\mathbf{r}_0$ is the cross product of $\\boldsymbol{\\omega}$ with the position vector $\\mathbf{r}_0$, which can be expressed as the skew-symmetric matrix $\\widehat{\\boldsymbol{\\omega}}$:\n",
        "\\begin{equation}\n",
        "\\boldsymbol{\\omega} \\times \\mathbf{r}_0 = \\widehat{\\boldsymbol{\\omega}} \\mathbf{r}_0.\n",
        "\\end{equation}\n",
        "\n",
        "Substituting this in the previous equation,\n",
        "\n",
        "\\begin{equation}\n",
        "\\widehat{\\boldsymbol{\\omega}} \\mathbf{r}_0 = \\dot{R} R.\n",
        "\\end{equation}\n",
        "\n",
        "This relates the derivative of the rotation matrix $\\dot{R}$ to the skew-symmetric matrix $\\widehat{\\boldsymbol{\\omega}}$. Thus, we have derived the equation $\\dot{R} = \\widehat{\\boldsymbol{\\omega}} R$, which describes the rotational motion of a rigid body."
      ],
      "metadata": {
        "id": "Tofyw1SjdZIg"
      }
    },
    {
      "cell_type": "markdown",
      "source": [
        "$\\dot{p} = f^e + f^u$ and $\\dot{\\pi} = \\tau^e + \\tau^u$......................(2)\n",
        "\n",
        "To derive the equation $\\dot{p} = f^e + f^u$ and $\\dot{\\pi} = \\tau^e + \\tau^u$ for the forces and moments acting on a rigid body using basic principles of classical mechanics.\n",
        "\n",
        "From Newton's second law we know that the rate of change of linear momentum is equal to the net force acting on an object. Considering a rigid body:\n",
        "\n",
        "\\begin{equation}\n",
        "\\dot{p} = \\sum f,\n",
        "\\end{equation}\n",
        "\n",
        "where $\\dot{p}$ represents the time derivative of linear momentum, and $\\sum f$ denotes the sum of all forces acting on the body.\n",
        "\n",
        "\n",
        "The forces acting on a body can come from both external sources and internal sources, we split the total force into two parts: the resultant external force $f^e$ and the unmanipulatable force $f^u$.\n",
        "The resultant external force $f^e$ represents the net force exerted on the body by external sources, such as gravity, contact forces, or fluid interactions. These forces cannot be controlled or manipulated directly by the body.\n",
        "\n",
        "The unmanipulatable force $f^u$ represents forces that arise from internal sources (such as control forces) or external sources that the body can control or manipulate. These forces are used to control the behavior of the body.\n"
      ],
      "metadata": {
        "id": "Jd9nKyWGhX8l"
      }
    },
    {
      "cell_type": "markdown",
      "source": [
        "#Task#2"
      ],
      "metadata": {
        "id": "PT5T8y9-3h1H"
      }
    },
    {
      "cell_type": "markdown",
      "source": [
        "Simulate the motion of a quadrotor UAV without resorting any parameterization of $SO(3)$ such as Euler angles or quaternions."
      ],
      "metadata": {
        "id": "iETMxXB04IZj"
      }
    },
    {
      "cell_type": "markdown",
      "source": [
        "#Task#3"
      ],
      "metadata": {
        "id": "iYtoUarB4L6Q"
      }
    },
    {
      "cell_type": "markdown",
      "source": [
        "Deerive a PID controller for the attitude control of a quadrorotor and use simulations to demibstrate the very large region of stability of the controller"
      ],
      "metadata": {
        "id": "AxOY5o-34TCz"
      }
    },
    {
      "cell_type": "markdown",
      "source": [
        "Here are few example our own implementations of this controller.\n",
        "\n",
        "* https://youtu.be/6E9WDQNVSYA\n",
        "* https://youtu.be/uUKxXImRMOA\n",
        "* https://youtu.be/zq05N8m_9SA\n",
        "* https://youtu.be/J5dThZGZN2g\n",
        "* https://youtu.be/J5MMp6Be3tU\n",
        "* https://youtu.be/6ZQgE1FI6Wc"
      ],
      "metadata": {
        "id": "cInu25giFEXw"
      }
    },
    {
      "cell_type": "markdown",
      "source": [
        "#Task#4"
      ],
      "metadata": {
        "id": "o6XRW2MR4nVw"
      }
    },
    {
      "cell_type": "markdown",
      "source": [
        "Derive a specialization of the controller develoed in Task#3 for the problem of stabilzing an inverted pendulum on a cart."
      ],
      "metadata": {
        "id": "u9vdw-yM4rem"
      }
    },
    {
      "cell_type": "markdown",
      "source": [
        "#Task#5"
      ],
      "metadata": {
        "id": "jkEiEv8sEPhG"
      }
    },
    {
      "cell_type": "markdown",
      "source": [
        " Experimentally verify the stability properties of the controller derived in Task#5 using the experimental setup available in the applied mechanics lab."
      ],
      "metadata": {
        "id": "w2WRdKSTEQ7i"
      }
    }
  ]
}