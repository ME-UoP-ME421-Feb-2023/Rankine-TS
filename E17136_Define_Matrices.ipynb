{
  "nbformat": 4,
  "nbformat_minor": 0,
  "metadata": {
    "colab": {
      "provenance": []
    },
    "kernelspec": {
      "name": "python3",
      "display_name": "Python 3"
    },
    "language_info": {
      "name": "python"
    }
  },
  "cells": [
    {
      "cell_type": "code",
      "execution_count": null,
      "metadata": {
        "id": "LfjGcU2WdtyB"
      },
      "outputs": [],
      "source": [
        "import numpy as np\n",
        "\n",
        "# Define the stiffness and mass matrices\n",
        "K = np.array([[k11, k12, k13, k14], [k21, k22, k23, k24], [k31, k32, k33, k34], [k41, k42, k43, k44]])\n",
        "M = np.array([[m11, m12, m13, m14], [m21, m22, m23, m24], [m31, m32, m33, m34], [m41, m42, m43, m44]])\n",
        "\n",
        "# Calculate the eigenvalues and eigenvectors\n",
        "omega_squared, Q = np.linalg.eig(K, M)\n",
        "\n",
        "# Sort the eigenvalues and eigenvectors in ascending order\n",
        "sort_indices = np.argsort(omega_squared)\n",
        "omega_squared = omega_squared[sort_indices]\n",
        "Q = Q[:, sort_indices]\n",
        "\n",
        "# Extract the eigenvalues and eigenvectors (f1,f2,f3,f4)\n",
        "f1, f2, f3, f4 = np.sqrt(omega_squared[:4]) / (2 * np.pi)\n",
        "q1, q2, q3, q4 = Q[:, :4]"
      ]
    }
  ]
}