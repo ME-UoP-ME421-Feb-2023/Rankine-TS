{
  "nbformat": 4,
  "nbformat_minor": 0,
  "metadata": {
    "colab": {
      "provenance": []
    },
    "kernelspec": {
      "name": "python3",
      "display_name": "Python 3"
    },
    "language_info": {
      "name": "python"
    }
  },
  "cells": [
    {
      "cell_type": "code",
      "execution_count": null,
      "metadata": {
        "id": "LfjGcU2WdtyB"
      },
      "outputs": [],
      "source": [
        "import numpy as np\n",
        "import matplotlib.pyplot as plt\n",
        "\n",
        "# Define system parameters\n",
        "m1 = 100  # kg\n",
        "m2 = 200  # kg\n",
        "k1 = 5000  # N/m\n",
        "k2 = 10000  # N/m\n",
        "c1 = 200  # Ns/m\n",
        "c2 = 400  # Ns/m\n",
        "\n",
        "# Define system matrices\n",
        "M = np.array([[m1, 0], [0, m2]])\n",
        "C = np.array([[c1+c2, -c2], [-c2, c2]])\n",
        "K = np.array([[k1+k2, -k2], [-k2, k2]])\n",
        "\n",
        "# Calculate natural frequencies and mode shapes\n",
        "eigvals, eigvecs = np.linalg.eig(np.dot(np.linalg.inv(M), K))\n",
        "freqs = np.sqrt(eigvals) / (2 * np.pi)\n",
        "modes = eigvecs\n",
        "\n",
        "# Print the results\n",
        "print(\"Natural frequencies: \", freqs)\n",
        "print(\"Mode shapes: \", modes)"
      ]
    }
  ]
}