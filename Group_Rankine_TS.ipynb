{
  "nbformat": 4,
  "nbformat_minor": 0,
  "metadata": {
    "colab": {
      "provenance": []
    },
    "kernelspec": {
      "name": "python3",
      "display_name": "Python 3"
    },
    "language_info": {
      "name": "python"
    }
  },
  "cells": [
    {
      "cell_type": "markdown",
      "source": [
        "# **ME421 - Vibration - Lab - Procedure**\n",
        "\n",
        "**Q - Two Story Building: Group Rankine-TS**\n",
        "\n",
        "E/17/009\n",
        "\n",
        "E/17/032\n",
        "\n",
        "E/17/095\n",
        "\n",
        "E/17/136\n"
      ],
      "metadata": {
        "id": "JxAxjG2l7otK"
      }
    },
    {
      "cell_type": "markdown",
      "source": [
        "Problem Description: https://www.youtube.com/watch?v=_0D_hMn12BA"
      ],
      "metadata": {
        "id": "Ct4MMG4x74f4"
      }
    },
    {
      "cell_type": "markdown",
      "source": [
        "1.Answer the in the lab, pre-requisite competency assessment quiz.\n",
        "\n",
        "2.With detailed justification derive a finite dimensional approximation of the small amplitude motion of the system shown in the video assigned to your group. The model should capture the first four modes of resonance of the system.\n",
        "\n",
        "3.Simulate and animate the small amplitude motion of the system and use the simulations to provide, with justification, a qualitative desrcription of the small amplitude motion of the system.\n",
        "\n",
        "4.Provide at least two soultions that will allow you to safely operate at frequencies near the second mode of resonance of the system. Justify your answer using simulations and compare the pros and cons of the two solutions.\n",
        "\n",
        "5.Use a Rashpberry Pi based data aquistion system and use that to measure the natural frequencies of the 2-DOF rotational plus translational system in the applied mechanics lab using FFTs methods.\n",
        "\n",
        "6.All your work will be collected and reported in a .ipynb notebook that will be maintained in a Github repository allocated to your group. All equations and mathematical expressions should be typed in LaTeX and all comutations should be performed using Python and should be contained in the same .ipynb notebbok.\n",
        "\n"
      ],
      "metadata": {
        "id": "g3AW8Zkv7SMU"
      }
    },
    {
      "cell_type": "markdown",
      "source": [
        "To derive a finite-dimensional approximation of the small amplitude motion of a two-story building under vibration, we will use the equation of motion for a discrete mass-spring system. The building can be modeled as a series of masses connected by springs, where each mass represents a floor and the springs represent the connections between floors."
      ],
      "metadata": {
        "id": "oIWMZKwA7J8b"
      }
    },
    {
      "cell_type": "markdown",
      "source": [
        "Let's denote the stiffness and mass matrices of the building as K and M, respectively. We can then write the equations of motion as:\n",
        "\n",
        "\\begin{equation}\n",
        "{M}\\frac{d^2{x}}{dt^2} + {K}{x} = \\mathbf{0}\n",
        "\\end{equation}\n",
        "\n",
        "where: $x$ is the vector of displacements of the floor\n",
        "$$\\frac{d^2{x}}{dt^2}$$ is the vector of their second derivatives with respect to time. We can assume that the solution to this equation takes the form:\n",
        "\n",
        "\\begin{equation}\n",
        "x(t) = Q \\sin(\\omega t)\n",
        "\\end{equation}\n",
        "\n",
        "where Q is a vector of modal amplitudes and ω is the angular frequency of the mode. Substituting this expression into the equation of motion and rearranging, we get:\n",
        "\n",
        "\\begin{equation}\n",
        "(K - \\omega^2 M)Q = 0\n",
        "\\end{equation}\n",
        "\n",
        "This eigenvalue problem solved  to obtain the values of ω and the corresponding mode shapes Q.\n",
        "\n",
        "To derive an analytical approximation that captures the first four modes of resonance of the system:\n",
        "\n",
        "Assuming that the building's response can be approximated as a linear combination of the first four mode shapes. Let's denote these mode shapes as q1, q2, q3, and q4, where q1 and q3 represent the two flexural modes, and q2 and q4 represent the two torsional modes. We can then write the following approximation:\n",
        "\n",
        "\\begin{equation}\n",
        "x(t) \\approx A_1 q_1 \\sin(\\omega_1 t) + A_2 q_2 \\sin(\\omega_2 t) + A_3 q_3 \\sin(\\omega_3 t) + A_4 q_4 \\sin(\\omega_4 t)\n",
        "\\end{equation}\n",
        "\n",
        "where A1, A2, A3, and A4 are constants that represent the amplitudes of each mode.\n",
        "\n",
        "We can then use the natural frequencies of the first four modes to estimate the values of ω1, ω2, ω3, and ω4. Let's denote the natural frequencies of the first flexural, first torsional, second flexural, and second torsional modes as f1, f2, f3, and f4, respectively. We can then write:\n",
        "\n",
        "\\begin{equation}\n",
        "\\omega_1 = 2\\pi f_1\\\\\n",
        "\\omega_2 = 2\\pi f_2\\\\\n",
        "\\omega_3 = 2\\pi f_3\\\\\n",
        "\\omega_4 = 2\\pi f_4\\\\\n",
        "\\end{equation}\n",
        "\n",
        "\n",
        "Substituting these expressions into the equation of motion, we get:\n",
        "\n",
        "\\begin{equation}\n",
        "(K - (2\\pi f_1)^2 M) q_1 = 0\\\\\n",
        "(K - (2\\pi f_2)^2 M) q_2 = 0\\\\\n",
        "(K - (2\\pi f_3)^2 M) q_3 = 0\\\\\n",
        "(K - (2\\pi f_4)^2 M) q_4 = 0\\\\\n",
        "\\end{equation}\n",
        "\n",
        "\n",
        "These are four separate eigenvalue problems, each of which can be solved to obtain the mode shapes q1, q2, q3, and q4. We can then use these mode shapes to construct the approximation for the building's response as shown above.\n"
      ],
      "metadata": {
        "id": "buGQuFamVHz5"
      }
    },
    {
      "cell_type": "markdown",
      "source": [
        "\\begin{equation}\n",
        "{M}\\frac{d^2{x}}{dt^2} + {K}{x} = \\mathbf{0}\n",
        "\\end{equation}"
      ],
      "metadata": {
        "id": "3FciQhs5bmGL"
      }
    }
  ]
}