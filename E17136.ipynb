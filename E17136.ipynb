{
  "nbformat": 4,
  "nbformat_minor": 0,
  "metadata": {
    "colab": {
      "provenance": []
    },
    "kernelspec": {
      "name": "python3",
      "display_name": "Python 3"
    },
    "language_info": {
      "name": "python"
    }
  },
  "cells": [
    {
      "cell_type": "markdown",
      "source": [
        "#### A1.1.1-Symbolic Computation of the Natural Frequancies and Modeshapes"
      ],
      "metadata": {
        "id": "0T1MME9zhlbM"
      }
    },
    {
      "cell_type": "markdown",
      "source": [
        "The eigenvalues are\n",
        "\\begin{align}\n",
        "\\omega_{1}^2&=\\frac{\\omega_{n1}^{2} \\left(\\alpha \\mu + \\alpha + 1\\right)}{2} - \\frac{\\omega_{n1}^{2} \\sqrt{\\alpha^{2} \\mu^{2} + 2 \\alpha^{2} \\mu + \\alpha^{2} + 2 \\alpha \\mu - 2 \\alpha + 1}}{2}=\\frac{\\omega_{n1}^{2}}{2}\\left( \\left(\\alpha \\mu + \\alpha + 1\\right)-\\sqrt{\\left(\\alpha \\mu + \\alpha + 1\\right)^2-4\\alpha}\\right)\\\\\n",
        "\\omega_{2}^2&=\\frac{\\omega_{n1}^{2} \\left(\\alpha \\mu + \\alpha + 1\\right)}{2} + \\frac{\\omega_{n1}^{2} \\sqrt{\\alpha^{2} \\mu^{2} + 2 \\alpha^{2} \\mu + \\alpha^{2} + 2 \\alpha \\mu - 2 \\alpha + 1}}{2}=\\frac{\\omega_{n1}^{2}}{2}\\left( \\left(\\alpha \\mu + \\alpha + 1\\right)+\\sqrt{\\left(\\alpha \\mu + \\alpha + 1\\right)^2-4\\alpha}\\right)\n",
        "\\end{align}"
      ],
      "metadata": {
        "id": "e-BCfVFoh-zf"
      }
    },
    {
      "cell_type": "markdown",
      "source": [
        "The corresponding eigenvectors are:\n",
        "\\begin{align}\n",
        "\\bar{X}_{m_1}&=\n",
        "\\begin{bmatrix}\\frac{2 \\alpha \\mu}{\\alpha \\mu - \\alpha + \\sqrt{\\alpha^{2} \\mu^{2} + 2 \\alpha^{2} \\mu + \\alpha^{2} + 2 \\alpha \\mu - 2 \\alpha + 1} + 1}\\\\1\\end{bmatrix}\\\\\n",
        "\\bar{X}_{m_2}&=\n",
        "\\begin{bmatrix}\\frac{2 \\alpha \\mu}{\\alpha \\mu - \\alpha - \\sqrt{\\alpha^{2} \\mu^{2} + 2 \\alpha^{2} \\mu + \\alpha^{2} + 2 \\alpha \\mu - 2 \\alpha + 1} + 1}\\\\1\\end{bmatrix}\n",
        "\\end{align}"
      ],
      "metadata": {
        "id": "NGd0QM3kiEZA"
      }
    },
    {
      "cell_type": "markdown",
      "source": [
        "Let $T\\triangleq [\\bar{X}_{m_1}\\:\\:\\:\\bar{X}_{m_2}]$\n",
        "\n",
        "Then we see that $\\Omega T=TD$ where\n",
        "\\begin{align}\n",
        "D\\triangleq \\begin{bmatrix}\\omega_1^2 & 0\\\\0 &\\omega_2^2\n",
        "\\end{bmatrix}.\n",
        "\\end{align}\n",
        "\n",
        "Thus if we define $Y\\triangleq Tz$ where $z=[z_1\\:\\:\\:z_2]^T$,\n",
        "then the equations above reduce to the form $\\ddot{z}+T^{-1}\\Omega Tz=\\ddot{z}+Dz=T^{-1}M^{-1}F$.  Then these equations take the explicit form\n",
        "\\begin{align*}\n",
        "\\ddot{z}_1+\\omega_1^2z_1&=\\frac{\\gamma_1}{m_1}\\,f(t),\\\\\n",
        "\\ddot{z}_2+\\omega_2^2z_2&=\\frac{\\gamma_2}{m_1}\\,f(t).\n",
        "\\end{align*}\n",
        "where\n",
        "\\begin{align}\n",
        "T^{-1}\\begin{bmatrix}\n",
        "1\\\\0\n",
        "\\end{bmatrix}&=\\begin{bmatrix}\n",
        "\\gamma_1\\\\\\gamma_2\n",
        "\\end{bmatrix}\n",
        "\\end{align}\n",
        "\n",
        "Thus we see that for lightly damped systems the system response of the system is given by\n",
        "\\begin{align*}\n",
        "X(t)=\\begin{bmatrix}x_1(t) \\\\x_2(t)\n",
        "\\end{bmatrix}&\\approx\n",
        "z_1(t)\\begin{bmatrix}\\bar{x}_{11}\\\\ \\bar{x}_{21}\\end{bmatrix}+\n",
        "z_2(t)\\begin{bmatrix} \\bar{x}_{12}\\\\ \\bar{x}_{22} \\end{bmatrix}\n",
        "\\end{align*}\n",
        "where $z_1(t)$ and $z_2(t)$ are the solutions of the uncoupled forced spring mass damper systems shown above."
      ],
      "metadata": {
        "id": "FG33UAYGiVpP"
      }
    }
  ]
}